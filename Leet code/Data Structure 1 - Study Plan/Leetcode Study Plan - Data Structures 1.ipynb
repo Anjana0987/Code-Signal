{
 "cells": [
  {
   "cell_type": "markdown",
   "metadata": {},
   "source": [
    "### Contains Duplicates\n",
    "\n",
    "**Given an integer array nums, return true if any value appears at least twice in the array, and return false if every element is distinct**\n",
    "\n",
    "```\n",
    "Example 1:\n",
    "\n",
    "Input: nums = [1,2,3,1]\n",
    "Output: true\n",
    "\n",
    "Example 2:\n",
    "\n",
    "Input: nums = [1,2,3,4]\n",
    "Output: false\n",
    "\n",
    "Example 3:\n",
    "\n",
    "Input: nums = [1,1,1,3,3,4,3,2,4,2]\n",
    "Output: true\n",
    "```\n"
   ]
  },
  {
   "cell_type": "code",
   "execution_count": 12,
   "metadata": {},
   "outputs": [
    {
     "name": "stdout",
     "output_type": "stream",
     "text": [
      "True\n",
      "False\n",
      "*******\n",
      "False\n",
      "True\n"
     ]
    }
   ],
   "source": [
    "# Solution 1\n",
    "nums = [2, 3, 4, 5, 6, 6]\n",
    "nums2 = [1, 2, 4, 5]\n",
    "\n",
    "class Solution:\n",
    "    def containsDuplicate(nums):\n",
    "        return True if len(nums) != len(set(nums)) else False\n",
    "    \n",
    "    def containsDuplicateDict(nums):\n",
    "        d = {}\n",
    "        for i in nums:\n",
    "            if i in d:\n",
    "                d[i] += 1\n",
    "            else:\n",
    "                d[i] = 1\n",
    "        return max(d.values()) == 1\n",
    "    \n",
    "print(Solution.containsDuplicate(nums))\n",
    "print(Solution.containsDuplicate(nums2))\n",
    "print('*******')\n",
    "print(Solution.containsDuplicateDict(nums))\n",
    "print(Solution.containsDuplicateDict(nums2))"
   ]
  },
  {
   "cell_type": "markdown",
   "metadata": {},
   "source": [
    "#### Maximum Subarray\n",
    "\n",
    "**Given an integer array nums, find the contiguous subarray (containing at least one number) which has the largest sum and return its sum A subarray is a contiguous part of an array**\n",
    " \n",
    "```\n",
    "Example 1:\n",
    "\n",
    "Input: nums = [-2,1,-3,4,-1,2,1,-5,4]\n",
    "Output: 6\n",
    "Explanation: [4,-1,2,1] has the largest sum = 6.\n",
    "\n",
    "Example 2:\n",
    "\n",
    "Input: nums = [1]\n",
    "Output: 1\n",
    "\n",
    "Example 3:\n",
    "\n",
    "Input: nums = [5,4,-1,7,8]\n",
    "Output: 23\n",
    "```"
   ]
  },
  {
   "cell_type": "code",
   "execution_count": 18,
   "metadata": {},
   "outputs": [
    {
     "name": "stdout",
     "output_type": "stream",
     "text": [
      "6\n"
     ]
    }
   ],
   "source": [
    "nums = [-2,1,-3,4,-1,2,1,-5,4]\n",
    "nums2 = [5,4,-1,7,8]\n",
    "\n",
    "def maxSubArray(nums):\n",
    "    current_subarray = max_subarray = nums[0]\n",
    "    for num in nums[1:]:\n",
    "        current_subarray = max(num, num+current_subarray)\n",
    "        max_subarray = max(max_subarray, current_subarray)\n",
    "    return max_subarray\n",
    "\n",
    "print(maxSubArray(nums))"
   ]
  },
  {
   "cell_type": "code",
   "execution_count": null,
   "metadata": {},
   "outputs": [],
   "source": [
    "max"
   ]
  }
 ],
 "metadata": {
  "kernelspec": {
   "display_name": "Python 3.7.7 64-bit",
   "language": "python",
   "name": "python37764bitb975b354362e4a129cc326be66de4715"
  },
  "language_info": {
   "codemirror_mode": {
    "name": "ipython",
    "version": 3
   },
   "file_extension": ".py",
   "mimetype": "text/x-python",
   "name": "python",
   "nbconvert_exporter": "python",
   "pygments_lexer": "ipython3",
   "version": "3.9.0"
  }
 },
 "nbformat": 4,
 "nbformat_minor": 4
}
