{
 "cells": [
  {
   "cell_type": "markdown",
   "metadata": {},
   "source": [
    "**Question 1**\n",
    "\n",
    "You are given two integer arrays nums1 and nums2 where nums2 is an anagram of nums1. Both arrays may contain duplicates.\n",
    "\n",
    "Return an index mapping array mapping from nums1 to nums2 where mapping[i] = j means the ith element in nums1 appears in nums2 at index j. If there are multiple answers, return any of them.\n",
    "\n",
    "An array a is an anagram of an array b means b is made by randomizing the order of the elements in a.\n",
    "\n",
    "**Example 1**:\n",
    "\n",
    "```\n",
    "Input: nums1 = [12,28,46,32,50], nums2 = [50,12,32,46,28]\n",
    "Output: [1,4,3,2,0]\n",
    "Explanation: As mapping[0] = 1 because the 0th element of nums1 appears at nums2[1], and mapping[1] = 4 because the 1st element of nums1 appears at nums2[4], and so on\n",
    "```\n",
    "\n",
    "**Example 2**:\n",
    "```\n",
    "Input: nums1 = [84,46], nums2 = [84,46]\n",
    "Output: [0,1]\n",
    "```\n"
   ]
  },
  {
   "cell_type": "code",
   "execution_count": 5,
   "metadata": {},
   "outputs": [
    {
     "name": "stdout",
     "output_type": "stream",
     "text": [
      "[1, 4, 3, 2, 0]\n",
      "[0, 1]\n"
     ]
    }
   ],
   "source": [
    "# Solution: Using Hashmaps\n",
    "class Solution:\n",
    "    def anagramMappings(nums1, nums2):\n",
    "        d = {j: i for i, j in enumerate(nums2)}\n",
    "        return [d[i] for i in nums1]\n",
    "    \n",
    "nums1 = [12,28,46,32,50]\n",
    "nums2 = [50,12,32,46,28]\n",
    "\n",
    "print(Solution.anagramMappings(nums1, nums2))\n",
    "\n",
    "nums1 = [84,46]\n",
    "nums2 = [84,46]\n",
    "\n",
    "print(Solution.anagramMappings(nums1, nums2))"
   ]
  },
  {
   "cell_type": "markdown",
   "metadata": {},
   "source": [
    "**Question 2**\n",
    "\n",
    "Given a non-negative integer x, compute and return the square root of x.\n",
    "\n",
    "Since the return type is an integer, the decimal digits are truncated, and only the integer part of the result is returned.\n",
    "\n",
    "Note: You are not allowed to use any built-in exponent function or operator, such as pow(x, 0.5) or x ** 0.5.\n",
    " \n",
    "**Example 1**:\n",
    "```\n",
    "Input: x = 4\n",
    "Output: 2\n",
    "```\n",
    "**Example 2**:\n",
    "```\n",
    "Input: x = 8\n",
    "Output: 2\n",
    "```\n",
    "Explanation: The square root of 8 is 2.82842..., and since the decimal part is truncated, 2 is returned."
   ]
  },
  {
   "cell_type": "code",
   "execution_count": 7,
   "metadata": {},
   "outputs": [
    {
     "name": "stdout",
     "output_type": "stream",
     "text": [
      "3\n",
      "4\n",
      "27\n"
     ]
    }
   ],
   "source": [
    "# Solution using Newtons Method\n",
    "class Solution:\n",
    "    def mySqrt(x) -> int:\n",
    "        if x < 2:\n",
    "            return x\n",
    "        x0 = x\n",
    "        x1 = (x0 + x / x0) / 2\n",
    "        \n",
    "        while abs(x0 - x1) >= 1:\n",
    "            x0 = x1\n",
    "            x1 = (x0 + x / x0) / 2\n",
    "        return int(x1)\n",
    "    \n",
    "print(Solution.mySqrt(12))\n",
    "print(Solution.mySqrt(16))\n",
    "print(Solution.mySqrt(729))"
   ]
  },
  {
   "cell_type": "code",
   "execution_count": null,
   "metadata": {},
   "outputs": [],
   "source": []
  }
 ],
 "metadata": {
  "kernelspec": {
   "display_name": "Python 3.7.7 64-bit",
   "language": "python",
   "name": "python37764bitb975b354362e4a129cc326be66de4715"
  },
  "language_info": {
   "codemirror_mode": {
    "name": "ipython",
    "version": 3
   },
   "file_extension": ".py",
   "mimetype": "text/x-python",
   "name": "python",
   "nbconvert_exporter": "python",
   "pygments_lexer": "ipython3",
   "version": "3.9.0"
  }
 },
 "nbformat": 4,
 "nbformat_minor": 4
}
