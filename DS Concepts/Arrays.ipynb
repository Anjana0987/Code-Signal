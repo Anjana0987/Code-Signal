{
 "cells": [
  {
   "cell_type": "markdown",
   "metadata": {},
   "source": [
    "### Array Rotation\n",
    "\n",
    "**Write a function rotate(array, d, n) that rotates the array of size n by d elements**\n",
    "\n",
    "There's two ways this can be solved:\n",
    "\n",
    "1. Create a temp array and store the first d elements of the array and sort the remaining elements of the array and add the temp in the end\n",
    "2. Shift one element at a time d times"
   ]
  },
  {
   "cell_type": "code",
   "execution_count": 58,
   "metadata": {},
   "outputs": [
    {
     "name": "stdout",
     "output_type": "stream",
     "text": [
      "Results from method 1:  [3, 4, 5, 6, 7, 1, 2]\n",
      "Results from method 2:  [3, 4, 5, 6, 7, 1, 2]\n"
     ]
    }
   ],
   "source": [
    "# method 1\n",
    "\n",
    "array = [1, 2, 3, 4, 5, 6, 7]\n",
    "d = 2\n",
    "n = 7\n",
    "\n",
    "def array_rotate_1(array, d, n):\n",
    "    temp = array[:d]\n",
    "    for i in range(d, n):\n",
    "        array[i-d] = array[i]\n",
    "        \n",
    "    array[n-d:] = temp\n",
    "    return array\n",
    "\n",
    "print(\"Results from method 1: \", array_rotate_1(array, d, n))\n",
    "\n",
    "# method 2\n",
    "\n",
    "array = [1, 2, 3, 4, 5, 6, 7]\n",
    "d = 2\n",
    "n = 7\n",
    "\n",
    "def leftRotate(arr, d, n):\n",
    "    for i in range(d):\n",
    "        leftRotatebyOne(arr, n)\n",
    "\n",
    "# Function to left Rotate arr[] of size n by 1*/\n",
    "def leftRotatebyOne(arr, n):\n",
    "    temp = arr[0]\n",
    "    for i in range(n-1):\n",
    "        arr[i] = arr[i + 1]\n",
    "    arr[n-1] = temp\n",
    "    \n",
    "leftRotate(array, d, n)\n",
    "\n",
    "print(\"Results from method 2: \", array)"
   ]
  },
  {
   "cell_type": "code",
   "execution_count": null,
   "metadata": {},
   "outputs": [],
   "source": []
  }
 ],
 "metadata": {
  "kernelspec": {
   "display_name": "Python 3.7.7 64-bit",
   "language": "python",
   "name": "python37764bitb975b354362e4a129cc326be66de4715"
  },
  "language_info": {
   "codemirror_mode": {
    "name": "ipython",
    "version": 3
   },
   "file_extension": ".py",
   "mimetype": "text/x-python",
   "name": "python",
   "nbconvert_exporter": "python",
   "pygments_lexer": "ipython3",
   "version": "3.9.0"
  }
 },
 "nbformat": 4,
 "nbformat_minor": 4
}
